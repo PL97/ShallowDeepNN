{
 "cells": [
  {
   "cell_type": "code",
   "execution_count": 14,
   "metadata": {},
   "outputs": [],
   "source": [
    "import numpy as np\n",
    "import sys\n",
    "from matplotlib import pyplot as plt\n",
    "\n",
    "sys.path.append(\"../utils/\")\n",
    "from cca_core import get_cca_similarity"
   ]
  },
  {
   "cell_type": "code",
   "execution_count": 27,
   "metadata": {},
   "outputs": [],
   "source": [
    "def get_svcca_similarity(x1, x2, verbose=True):\n",
    "    x1 = x1 - np.mean(x1, axis=1, keepdims=True)\n",
    "    x2 = x2 - np.mean(x2, axis=1, keepdims=True)\n",
    "    \n",
    "    # perform svd\n",
    "    u1, s1, v1 = np.linalg.svd(x1, full_matrices=False)\n",
    "    u2, s2, v2 = np.linalg.svd(x2, full_matrices=False)\n",
    "    \n",
    "    print(s1)\n",
    "    print(s2)\n",
    "    \n",
    "    kept_dim = 20\n",
    "    \n",
    "    # remove direction with low variance\n",
    "    new_x1 = np.dot(s1[:kept_dim]*np.eye(kept_dim), v1[:kept_dim])\n",
    "    new_x2 = np.dot(s2[:kept_dim]*np.eye(kept_dim), v2[:kept_dim])\n",
    "    \n",
    "    return get_cca_similarity(new_x1, new_x2)"
   ]
  },
  {
   "cell_type": "code",
   "execution_count": 28,
   "metadata": {},
   "outputs": [
    {
     "name": "stdout",
     "output_type": "stream",
     "text": [
      "[54.1039336  53.44180504 53.35603221 52.99330173 52.68808225 52.53963207\n",
      " 52.11166906 52.0457758  51.97909003 51.5928139  51.45948075 51.40831567\n",
      " 50.83155925 50.70086155 50.60250367 50.46712242 50.15846851 49.78763724\n",
      " 49.5171546  49.46348632 49.36442668 49.08470039 48.85696291 48.76762546\n",
      " 48.62894154 48.5472922  48.4183468  48.07326188 47.8569195  47.74801157\n",
      " 47.54417789 47.33335228 47.27079736 47.15386866 47.02583164 46.80248109\n",
      " 46.59956638 46.39398299 46.24743598 46.1917597  45.96848988 45.79457071\n",
      " 45.47783228 45.26631605 45.16671033 45.01417619 44.83552833 44.60722659\n",
      " 44.55302437 44.35284457 44.29431631 44.06004794 43.91644128 43.71964061\n",
      " 43.61757285 43.51600852 43.28235869 43.15154673 42.96630319 42.64781938\n",
      " 42.56810391 42.51082345 42.42606337 42.34280271 41.9770129  41.86479318\n",
      " 41.80123161 41.56190479 41.48218156 41.34705134 41.06135661 40.86643166\n",
      " 40.64446371 40.39029787 40.29825317 40.24467439 39.81889898 39.74893244\n",
      " 39.63789104 39.23422943 39.1865325  39.05548225 38.88304331 38.66541129\n",
      " 38.54086199 38.27470853 38.19378993 37.99719741 37.74515108 37.50662498\n",
      " 37.08795852 37.002727   36.84696578 36.73720715 36.41952778 36.21063541\n",
      " 35.89487705 35.31471943 35.04421973 34.7670352 ]\n",
      "[51.30690876 50.99944901 50.35242029 49.95885843 49.40447665 48.87713322\n",
      " 48.69083057 48.46009095 48.25366511 47.91491744 47.74108492 47.65060233\n",
      " 47.51261308 47.27185621 47.06457116 46.81479048 46.63423205 46.34112521\n",
      " 46.05638601 45.9914944  45.68038948 45.35238212 45.12921913 44.84454128\n",
      " 44.80887972 44.4098256  44.20057075 43.87352028 43.59094424 43.32760185\n",
      " 43.18067923 42.90337415 42.87747209 42.38918434 42.16160556 42.09512448\n",
      " 41.96099003 41.55206676 41.46657425 41.11295339 40.86320628 40.68213934\n",
      " 40.46374493 40.21279342 40.00384341 39.65692193 39.0786806  38.91559134\n",
      " 38.26008408 38.14106296]\n",
      "adding eps to diagonal and taking inverse\n",
      "taking square root\n",
      "dot products...\n",
      "trying to take final svd\n",
      "computed everything!\n"
     ]
    }
   ],
   "source": [
    "# Toy Example of CCA in action\n",
    "\n",
    "# assume X_fake has 100 neurons and we have their activations on 1000 datapoints\n",
    "A_fake = np.random.randn(100, 2000)\n",
    "# Y_fake has 50 neurons with activations on the same 1000 datapoints\n",
    "# Note X and Y do *not* have to have the same number of neurons\n",
    "B_fake = np.random.randn(50, 2000)\n",
    "\n",
    "# computing CCA simliarty between X_fake, Y_fake\n",
    "# We expect similarity should be very low, because the fake activations are not correlated\n",
    "\n",
    "results = get_svcca_similarity(A_fake, B_fake, verbose=True)"
   ]
  },
  {
   "cell_type": "code",
   "execution_count": 29,
   "metadata": {},
   "outputs": [],
   "source": [
    "def plot_helper(arr, xlabel, ylabel):\n",
    "    plt.plot(arr, lw=2.0)\n",
    "    plt.xlabel(xlabel)\n",
    "    plt.ylabel(ylabel)\n",
    "    plt.grid()"
   ]
  },
  {
   "cell_type": "code",
   "execution_count": 26,
   "metadata": {},
   "outputs": [
    {
     "data": {
      "image/png": "[encoded data removed]",
      "text/plain": [
       "<Figure size 432x288 with 1 Axes>"
      ]
     },
     "metadata": {
      "needs_background": "light"
     },
     "output_type": "display_data"
    }
   ],
   "source": [
    "# correlation coefficients\n",
    "plot_helper(results[\"cca_coef1\"], \"CCA coef idx\", \"CCA coef value\")"
   ]
  },
  {
   "cell_type": "code",
   "execution_count": null,
   "metadata": {},
   "outputs": [],
   "source": []
  }
 ],
 "metadata": {
  "kernelspec": {
   "display_name": "Python 3",
   "language": "python",
   "name": "python3"
  },
  "language_info": {
   "codemirror_mode": {
    "name": "ipython",
    "version": 3
   },
   "file_extension": ".py",
   "mimetype": "text/x-python",
   "name": "python",
   "nbconvert_exporter": "python",
   "pygments_lexer": "ipython3",
   "version": "3.8.3"
  }
 },
 "nbformat": 4,
 "nbformat_minor": 4
}
