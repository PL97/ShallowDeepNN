{
 "cells": [
  {
   "cell_type": "code",
   "execution_count": 1,
   "metadata": {},
   "outputs": [],
   "source": [
    "import os\n",
    "import pandas as pd\n",
    "import matplotlib.pyplot as plt\n",
    "from skimage import io\n",
    "from skimage.transform import resize\n",
    "import numpy as np\n",
    "import pandas as pd\n",
    "import math"
   ]
  },
  {
   "cell_type": "code",
   "execution_count": 2,
   "metadata": {},
   "outputs": [],
   "source": [
    "from joblib import Parallel, delayed\n",
    "import multiprocessing\n",
    "\n",
    "corrupted = []\n",
    "\n",
    "# resize to 224x224\n",
    "def readParallel(p, resize_img=True):\n",
    "    rootpath = \"../../../dataset/diabetic-retinopathy-detection/\"\n",
    "    subfolder = [\"train.zip.001\", \"train.zip.002\", \"train.zip.003\", \"train.zip.004\", \"train.zip.005\"]\n",
    "    flag = False\n",
    "    for sf in subfolder:\n",
    "        try:\n",
    "            path = os.path.join(rootpath, sf)\n",
    "            path = path + \"/train.zip/train/\" + p\n",
    "            img = io.imread(path)\n",
    "            flag = True\n",
    "            break\n",
    "        except Exception as e:\n",
    "            continue\n",
    "    \n",
    "    if flag:\n",
    "        w, h, c = img.shape\n",
    "        if w > h:\n",
    "            pad = (w - h)//2\n",
    "            img = np.pad(img, [(pad, w-h-pad), (0, 0), (0, 0)], mode='constant', constant_values=0)\n",
    "        elif w < h:\n",
    "            pad = (h-w)//2\n",
    "            img = np.pad(img, [(pad, h-w-pad), (0, 0), (0, 0)], mode='constant', constant_values=0)\n",
    "        else:\n",
    "            pass\n",
    "\n",
    "        if resize_img:\n",
    "            img = resize(img, (587, 587, 3))\n",
    "        return img\n",
    "    else:\n",
    "        print(\"corrupted image\")\n",
    "        corrupted.append(p)\n",
    "        return np.zeros((587, 587, 3))\n",
    "#     io.resize(img, )"
   ]
  },
  {
   "cell_type": "code",
   "execution_count": 3,
   "metadata": {},
   "outputs": [],
   "source": [
    "def readImg(df):\n",
    "    col = \"image\"\n",
    "    imgpath = df.loc[:, col]\n",
    "    \n",
    "    num_cores = multiprocessing.cpu_count()\n",
    "#     num_cores = 4\n",
    "#     print(num_cores)\n",
    "    results = Parallel(n_jobs=num_cores, backend=\"loky\")(delayed(readParallel)(i) for i in imgpath)\n",
    "    results = np.asarray(results)\n",
    "#     print(results.shape\n",
    "\n",
    "\n",
    "    return results"
   ]
  },
  {
   "cell_type": "code",
   "execution_count": 4,
   "metadata": {},
   "outputs": [],
   "source": [
    "def getData(save=True):\n",
    "    \n",
    "    # read csv and build map\n",
    "    df_all = pd.read_csv(\"../../../dataset/diabetic-retinopathy-detection/trainLabels.csv\")\n",
    "    \n",
    "    data_size = df_all.shape[0]\n",
    "    blocks = 10\n",
    "    block_size = math.ceil(data_size/blocks)\n",
    "    dfs = [df_all.loc[i*block_size:(i+1)*block_size, :] for i in range(blocks)]\n",
    "    for i, df in enumerate(dfs):\n",
    "    \n",
    "        df.image = df.image + \".jpeg\"\n",
    "\n",
    "        LABELS = df.level\n",
    "        IMGS = readImg(df=df)\n",
    "\n",
    "        IMGS = np.asarray(IMGS)\n",
    "        LABELS = np.asarray(LABELS)\n",
    "        print(IMGS.shape)\n",
    "        print(LABELS.shape)\n",
    "        if save:\n",
    "            np.savez_compressed(\"diabetic-retinopathy-{}\".format(i), data=IMGS, label=LABELS)\n",
    "    return IMGS, LABELS"
   ]
  },
  {
   "cell_type": "code",
   "execution_count": 5,
   "metadata": {},
   "outputs": [
    {
     "name": "stderr",
     "output_type": "stream",
     "text": [
      "C:\\Users\\pengl\\anaconda3\\lib\\site-packages\\pandas\\core\\generic.py:5303: SettingWithCopyWarning: \n",
      "A value is trying to be set on a copy of a slice from a DataFrame.\n",
      "Try using .loc[row_indexer,col_indexer] = value instead\n",
      "\n",
      "See the caveats in the documentation: https://pandas.pydata.org/pandas-docs/stable/user_guide/indexing.html#returning-a-view-versus-a-copy\n",
      "  self[name] = value\n"
     ]
    },
    {
     "name": "stdout",
     "output_type": "stream",
     "text": [
      "(3514, 587, 587, 3)\n",
      "(3514,)\n"
     ]
    },
    {
     "ename": "NameError",
     "evalue": "name 'Data' is not defined",
     "output_type": "error",
     "traceback": [
      "\u001b[1;31m---------------------------------------------------------------------------\u001b[0m",
      "\u001b[1;31mNameError\u001b[0m                                 Traceback (most recent call last)",
      "\u001b[1;32m<ipython-input-5-37e8f39ba9eb>\u001b[0m in \u001b[0;36m<module>\u001b[1;34m\u001b[0m\n\u001b[1;32m----> 1\u001b[1;33m \u001b[0mdata\u001b[0m\u001b[1;33m,\u001b[0m \u001b[0mlabel\u001b[0m \u001b[1;33m=\u001b[0m \u001b[0mgetData\u001b[0m\u001b[1;33m(\u001b[0m\u001b[1;33m)\u001b[0m\u001b[1;33m\u001b[0m\u001b[1;33m\u001b[0m\u001b[0m\n\u001b[0m\u001b[0;32m      2\u001b[0m \u001b[1;31m# np.save(\"data.npy\", data)\u001b[0m\u001b[1;33m\u001b[0m\u001b[1;33m\u001b[0m\u001b[1;33m\u001b[0m\u001b[0m\n\u001b[0;32m      3\u001b[0m \u001b[1;31m# np.save(\"label.npy\", label)\u001b[0m\u001b[1;33m\u001b[0m\u001b[1;33m\u001b[0m\u001b[1;33m\u001b[0m\u001b[0m\n\u001b[0;32m      4\u001b[0m \u001b[0mnp\u001b[0m\u001b[1;33m.\u001b[0m\u001b[0msavez_compressed\u001b[0m\u001b[1;33m(\u001b[0m\u001b[1;34m\"diabetic-retinopathy\"\u001b[0m\u001b[1;33m,\u001b[0m \u001b[0mdata\u001b[0m\u001b[1;33m=\u001b[0m\u001b[0mdata\u001b[0m\u001b[1;33m,\u001b[0m \u001b[0mlabel\u001b[0m\u001b[1;33m=\u001b[0m\u001b[0mlabel\u001b[0m\u001b[1;33m)\u001b[0m\u001b[1;33m\u001b[0m\u001b[1;33m\u001b[0m\u001b[0m\n",
      "\u001b[1;32m<ipython-input-4-57bf431b59c1>\u001b[0m in \u001b[0;36mgetData\u001b[1;34m(save)\u001b[0m\n\u001b[0;32m     20\u001b[0m         \u001b[0mprint\u001b[0m\u001b[1;33m(\u001b[0m\u001b[0mLABELS\u001b[0m\u001b[1;33m.\u001b[0m\u001b[0mshape\u001b[0m\u001b[1;33m)\u001b[0m\u001b[1;33m\u001b[0m\u001b[1;33m\u001b[0m\u001b[0m\n\u001b[0;32m     21\u001b[0m         \u001b[1;32mif\u001b[0m \u001b[0msave\u001b[0m\u001b[1;33m:\u001b[0m\u001b[1;33m\u001b[0m\u001b[1;33m\u001b[0m\u001b[0m\n\u001b[1;32m---> 22\u001b[1;33m             \u001b[0mnp\u001b[0m\u001b[1;33m.\u001b[0m\u001b[0msavez_compressed\u001b[0m\u001b[1;33m(\u001b[0m\u001b[1;34m\"diabetic-retinopathy-{}\"\u001b[0m\u001b[1;33m.\u001b[0m\u001b[0mformat\u001b[0m\u001b[1;33m(\u001b[0m\u001b[0mi\u001b[0m\u001b[1;33m)\u001b[0m\u001b[1;33m,\u001b[0m \u001b[0mdata\u001b[0m\u001b[1;33m=\u001b[0m\u001b[0mData\u001b[0m\u001b[1;33m,\u001b[0m \u001b[0mlabel\u001b[0m\u001b[1;33m=\u001b[0m\u001b[0mLABEL\u001b[0m\u001b[1;33m)\u001b[0m\u001b[1;33m\u001b[0m\u001b[1;33m\u001b[0m\u001b[0m\n\u001b[0m\u001b[0;32m     23\u001b[0m     \u001b[1;32mreturn\u001b[0m \u001b[0mIMGS\u001b[0m\u001b[1;33m,\u001b[0m \u001b[0mLABELS\u001b[0m\u001b[1;33m\u001b[0m\u001b[1;33m\u001b[0m\u001b[0m\n",
      "\u001b[1;31mNameError\u001b[0m: name 'Data' is not defined"
     ]
    }
   ],
   "source": [
    "data, label = getData()\n",
    "# np.save(\"data.npy\", data)\n",
    "# np.save(\"label.npy\", label)\n",
    "# np.savez_compressed(\"diabetic-retinopathy\", data=data, label=label)"
   ]
  },
  {
   "cell_type": "code",
   "execution_count": null,
   "metadata": {},
   "outputs": [],
   "source": []
  },
  {
   "cell_type": "code",
   "execution_count": null,
   "metadata": {},
   "outputs": [],
   "source": []
  },
  {
   "cell_type": "code",
   "execution_count": null,
   "metadata": {},
   "outputs": [],
   "source": []
  }
 ],
 "metadata": {
  "kernelspec": {
   "display_name": "Python 3",
   "language": "python",
   "name": "python3"
  },
  "language_info": {
   "codemirror_mode": {
    "name": "ipython",
    "version": 3
   },
   "file_extension": ".py",
   "mimetype": "text/x-python",
   "name": "python",
   "nbconvert_exporter": "python",
   "pygments_lexer": "ipython3",
   "version": "3.8.3"
  }
 },
 "nbformat": 4,
 "nbformat_minor": 4
}
