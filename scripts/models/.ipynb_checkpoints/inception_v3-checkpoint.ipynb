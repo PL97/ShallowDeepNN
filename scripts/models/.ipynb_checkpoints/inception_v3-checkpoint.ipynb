{
 "cells": [
  {
   "cell_type": "code",
   "execution_count": 1,
   "metadata": {},
   "outputs": [],
   "source": [
    "import torch\n",
    "import torch.nn as nn\n",
    "import torch.optim as optim\n",
    "from torch.optim import lr_scheduler\n",
    "import numpy as np\n",
    "import torchvision\n",
    "from torchvision import datasets, models, transforms\n",
    "from torch.utils.data import TensorDataset, DataLoader\n",
    "import matplotlib.pyplot as plt\n",
    "import time\n",
    "import os\n",
    "import copy\n",
    "import numpy as np"
   ]
  },
  {
   "cell_type": "code",
   "execution_count": 2,
   "metadata": {},
   "outputs": [],
   "source": [
    "def stratifySample(features, labels, bs):\n",
    "    batches = []\n",
    "    pos = np.where(labels == 1)[0]\n",
    "    neg = np.where(labels == 0)[0]\n",
    "    random.shuffle(pos)\n",
    "    random.shuffle(neg)\n",
    "\n",
    "    pos_num = len(pos)\n",
    "    neg_num = len(neg)\n",
    "\n",
    "    print(\"positive:{}\\tnegative:{}\".format(pos_num, neg_num))\n",
    "\n",
    "    p_r = pos_num / (neg_num + pos_num)\n",
    "    n_r = 1-p_r\n",
    "\n",
    "\n",
    "    bs_p = math.ceil(bs * p_r)\n",
    "    bs_n = bs - bs_p\n",
    "\n",
    "    batches_p = math.floor(pos_num/bs_p)\n",
    "    batches_n = math.floor(neg_num/bs_n)\n",
    "\n",
    "\n",
    "    for i in range(min(batches_p, batches_n)):\n",
    "        bt_p_features = features[pos[i*bs_p : (i+1)*bs_p]]\n",
    "        bt_p_labels = labels[pos[i*bs_p : (i+1)*bs_p]]\n",
    "\n",
    "        bt_n_features = features[neg[i*bs_n : (i+1)*bs_n]]\n",
    "        bt_n_labels = labels[neg[i*bs_n : (i+1)*bs_n]]\n",
    "\n",
    "        bt_comb_features = np.concatenate((bt_p_features, bt_n_features), axis = 0)\n",
    "        bt_comb_labels = np.concatenate((bt_p_labels, bt_n_labels), axis = 0)\n",
    "\n",
    "        idx = list(range(bs))\n",
    "        random.shuffle(idx)\n",
    "        bt_comb_features, bt_comb_labels = bt_comb_features[idx], bt_comb_labels[idx]\n",
    "        bt_comb_features, bt_comb_labels = map(torch.tensor, (bt_comb_features, bt_comb_labels))\n",
    "        batches.append((bt_comb_features, bt_comb_labels))\n",
    "    return batches"
   ]
  },
  {
   "cell_type": "code",
   "execution_count": null,
   "metadata": {},
   "outputs": [
    {
     "name": "stdout",
     "output_type": "stream",
     "text": [
      "../../../dataset/diabetic-retinopathy-npz/587/diabetic-retinopathy-0.npz\n"
     ]
    }
   ],
   "source": [
    "blocks = 1\n",
    "DATA = []\n",
    "LABEL = []\n",
    "\n",
    "for i in range(blocks):\n",
    "    # rootPath = \"../../../dataset/diabetic-retinopathy-npy/Messidor1/\"\n",
    "    rootPath = \"../../../dataset/diabetic-retinopathy-npz/587/\"\n",
    "    fname = \"diabetic-retinopathy-{}.npz\".format(i)\n",
    "    dpath = os.path.join(rootPath, fname)\n",
    "    print(dpath)\n",
    "\n",
    "    D = np.load(dpath)\n",
    "    DATA.extend(D['data'])\n",
    "    LABEL.extend(D['label'])\n",
    "\n",
    "DATA = np.asarray(DATA)\n",
    "LABEL = np.asarray(LABEL)\n",
    "\n",
    "LABEL[LABEL < 3] = 0\n",
    "LABEL[LABEL >= 3] = 1\n",
    "\n",
    "DATA = DATA/255.0\n",
    "    \n",
    "print(DATA.shape, LABEL.shape)\n",
    "print(np.min(DATA), np.max(DATA))"
   ]
  },
  {
   "cell_type": "code",
   "execution_count": 6,
   "metadata": {},
   "outputs": [
    {
     "name": "stdout",
     "output_type": "stream",
     "text": [
      "(2811, 587, 587, 3) (703, 587, 587, 3)\n"
     ]
    }
   ],
   "source": [
    "# split into train and test\n",
    "from sklearn.model_selection import train_test_split\n",
    "\n",
    "X_train, X_test, y_train, y_test = train_test_split(DATA, LABEL, test_size=0.2, random_state=42, stratify=LABEL)\n",
    "\n",
    "\n",
    "data = {}\n",
    "label = {}\n",
    "data['train'] = X_train\n",
    "label['train'] = y_train\n",
    "data['val'] = X_test\n",
    "label['val'] = y_test\n",
    "\n",
    "print(X_train.shape, X_test.shape)"
   ]
  },
  {
   "cell_type": "code",
   "execution_count": 7,
   "metadata": {},
   "outputs": [
    {
     "name": "stdout",
     "output_type": "stream",
     "text": [
      "{'train': 2811, 'val': 703}\n"
     ]
    }
   ],
   "source": [
    "# convert to PIL image\n",
    "from PIL import Image\n",
    "from matplotlib import cm\n",
    "\n",
    "\n",
    "PIL_data = {x:[Image.fromarray(np.uint8(data[x][i] * 255)).convert('RGB') for i in range(data[x].shape[0])] for x in ['train', 'val']}\n",
    "dataset_sizes = {x: len(PIL_data[x]) for x in ['train', 'val']}\n",
    "\n",
    "print(dataset_sizes)"
   ]
  },
  {
   "cell_type": "code",
   "execution_count": null,
   "metadata": {},
   "outputs": [],
   "source": [
    "data_transforms = {\n",
    "    'train': transforms.Compose([\n",
    "        transforms.Resize(299),\n",
    "#         transforms.RandomResizedCrop(224),\n",
    "        transforms.RandomHorizontalFlip(),\n",
    "        transforms.ToTensor(),\n",
    "        transforms.Normalize([0.485, 0.456, 0.406], [0.229, 0.224, 0.225])\n",
    "    ]),\n",
    "    'val': transforms.Compose([\n",
    "        transforms.Resize(299),\n",
    "#         transforms.CenterCrop(224),\n",
    "        transforms.ToTensor(),\n",
    "        transforms.Normalize([0.485, 0.456, 0.406], [0.229, 0.224, 0.225])\n",
    "    ]),\n",
    "}"
   ]
  },
  {
   "cell_type": "code",
   "execution_count": null,
   "metadata": {},
   "outputs": [],
   "source": [
    "device = torch.device(\"cuda:0\" if torch.cuda.is_available() else \"cpu\")"
   ]
  },
  {
   "cell_type": "code",
   "execution_count": null,
   "metadata": {},
   "outputs": [],
   "source": [
    "data_tensor = {x: torch.stack([data_transforms[x](PIL_data[x][i]) for i in range(len(PIL_data[x]))]) for x in ['train', 'val']}\n",
    "label_tensor = {x: torch.Tensor(label[x]) for x in ['train', 'val']}"
   ]
  },
  {
   "cell_type": "code",
   "execution_count": null,
   "metadata": {},
   "outputs": [],
   "source": [
    "# ds = {x: TensorDataset(data_tensor[x], label_tensor[x]) for x in ['train', 'val']}\n",
    "# dl = {x: DataLoader(ds[x], batch_size=32, shuffle=True, num_workers=8) for x in ['train', 'val']}\n",
    "\n",
    "bs = 64\n",
    "dl = {x: stratifySample(data_tensor[x], label_tensor[x], bs) for x in ['train', 'val']}"
   ]
  },
  {
   "cell_type": "code",
   "execution_count": null,
   "metadata": {},
   "outputs": [],
   "source": [
    "def imshow(inp, title=None):\n",
    "    \"\"\"Imshow for Tensor.\"\"\"\n",
    "    inp = inp.numpy().transpose((1, 2, 0))\n",
    "    mean = np.array([0.485, 0.456, 0.406])\n",
    "    std = np.array([0.229, 0.224, 0.225])\n",
    "    inp = std * inp + mean\n",
    "    inp = np.clip(inp, 0, 1)\n",
    "    plt.imshow(inp)\n",
    "    if title is not None:\n",
    "        plt.title(title)\n",
    "    plt.pause(0.001)  # pause a bit so that plots are updated\n",
    "\n",
    "\n",
    "# Get a batch of training data\n",
    "inputs, classes = next(iter(dl['train']))\n",
    "\n",
    "# Make a grid from batch\n",
    "out = torchvision.utils.make_grid(inputs)\n",
    "\n",
    "imshow(out, title=classes)"
   ]
  },
  {
   "cell_type": "code",
   "execution_count": null,
   "metadata": {},
   "outputs": [],
   "source": [
    "def my_loss(output, target, criterion):\n",
    "    \n",
    "    pos_target = target[target == 1]\n",
    "    pos_output = output[target == 1]\n",
    "    \n",
    "    neg_target = target[target == 0]\n",
    "    neg_output = output[target == 0]\n",
    "    \n",
    "    p_loss = criterion(pos_output, pos_target)/pos_target.shape[0]\n",
    "    n_loss = criterion(neg_output, neg_target)/neg_target.shape[0]\n",
    "    \n",
    "    loss = torch.max(p_loss, n_loss)\n",
    "\n",
    "    return loss\n",
    "\n",
    "def train_model(dataloaders, dataset_sizes, model, criterion, optimizer, scheduler, num_epochs=25):\n",
    "    since = time.time()\n",
    "\n",
    "    best_model_wts = copy.deepcopy(model.state_dict())\n",
    "    best_acc = 0.0\n",
    "    \n",
    "\n",
    "    for epoch in range(num_epochs):\n",
    "        print('Epoch {}/{}'.format(epoch, num_epochs - 1))\n",
    "        print('-' * 10)\n",
    "\n",
    "        # Each epoch has a training and validation phase\n",
    "        for phase in ['train', 'val']:\n",
    "            if phase == 'train':\n",
    "                model.train()  # Set model to training mode\n",
    "            else:\n",
    "                model.eval()   # Set model to evaluate mode\n",
    "\n",
    "            running_loss = 0.0\n",
    "            running_corrects = 0\n",
    "\n",
    "            # Iterate over data.\n",
    "            for inputs, labels in dataloaders[phase]:\n",
    "                inputs = inputs.to(device)\n",
    "                labels = labels.to(device)\n",
    "                labels = labels.long()\n",
    "\n",
    "                # zero the parameter gradients\n",
    "                optimizer.zero_grad()\n",
    "\n",
    "                # forward\n",
    "                # track history if only in train\n",
    "                with torch.set_grad_enabled(phase == 'train'):\n",
    "                    outputs = model(inputs)\n",
    "                    if phase == 'train':\n",
    "                        outputs = outputs.logits\n",
    "                    _, preds = torch.max(outputs, 1)\n",
    "                    loss = my_loss(outputs, labels, criterion)\n",
    "\n",
    "                    # backward + optimize only if in training phase\n",
    "                    if phase == 'train':\n",
    "                        loss.backward()\n",
    "                        optimizer.step()\n",
    "\n",
    "                # statistics\n",
    "                running_loss += loss.item() * inputs.size(0)\n",
    "                running_corrects += torch.sum(preds == labels.data)\n",
    "            if phase == 'train':\n",
    "                scheduler.step()\n",
    "\n",
    "            epoch_loss = running_loss / dataset_sizes[phase]\n",
    "            epoch_acc = running_corrects.double() / dataset_sizes[phase]\n",
    "\n",
    "            print('{} Loss: {:.4f} Acc: {:.4f}'.format(\n",
    "                phase, epoch_loss, epoch_acc))\n",
    "\n",
    "            # deep copy the model\n",
    "            if phase == 'val' and epoch_acc > best_acc:\n",
    "                best_acc = epoch_acc\n",
    "                best_model_wts = copy.deepcopy(model.state_dict())\n",
    "\n",
    "        print()\n",
    "\n",
    "    time_elapsed = time.time() - since\n",
    "    print('Training complete in {:.0f}m {:.0f}s'.format(\n",
    "        time_elapsed // 60, time_elapsed % 60))\n",
    "    print('Best val Acc: {:4f}'.format(best_acc))\n",
    "\n",
    "    # load best model weights\n",
    "    model.load_state_dict(best_model_wts)\n",
    "    return model"
   ]
  },
  {
   "cell_type": "code",
   "execution_count": null,
   "metadata": {},
   "outputs": [],
   "source": [
    "def visualize_model(model, num_images=6):\n",
    "    was_training = model.training\n",
    "    model.eval()\n",
    "    images_so_far = 0\n",
    "    fig = plt.figure()\n",
    "\n",
    "    with torch.no_grad():\n",
    "        for i, (inputs, labels) in enumerate(dataloaders['val']):\n",
    "            inputs = inputs.to(device)\n",
    "            labels = labels.to(device)\n",
    "\n",
    "            outputs = model(inputs)\n",
    "            _, preds = torch.max(outputs, 1)\n",
    "\n",
    "            for j in range(inputs.size()[0]):\n",
    "                images_so_far += 1\n",
    "                ax = plt.subplot(num_images//2, 2, images_so_far)\n",
    "                ax.axis('off')\n",
    "                ax.set_title('predicted: {}'.format(class_names[preds[j]]))\n",
    "                imshow(inputs.cpu().data[j])\n",
    "\n",
    "                if images_so_far == num_images:\n",
    "                    model.train(mode=was_training)\n",
    "                    return\n",
    "        model.train(mode=was_training)"
   ]
  },
  {
   "cell_type": "code",
   "execution_count": null,
   "metadata": {},
   "outputs": [],
   "source": [
    "model_ft = models.inception_v3(pretrained=False)\n",
    "num_ftrs = model_ft.fc.in_features\n",
    "# Here the size of each output sample is set to 2.\n",
    "# Alternatively, it can be generalized to nn.Linear(num_ftrs, len(class_names)).\n",
    "model_ft.fc = nn.Linear(num_ftrs, 2)\n",
    "\n",
    "model_ft = model_ft.to(device)\n",
    "\n",
    "criterion = nn.CrossEntropyLoss()\n",
    "\n",
    "# Observe that all parameters are being optimized\n",
    "optimizer_ft = optim.Adam(model_ft.parameters(), lr=1e-4)\n",
    "\n",
    "# Decay LR by a factor of 0.1 every 7 epochs\n",
    "exp_lr_scheduler = lr_scheduler.StepLR(optimizer_ft, step_size=7, gamma=0.1)"
   ]
  },
  {
   "cell_type": "code",
   "execution_count": null,
   "metadata": {},
   "outputs": [],
   "source": [
    "model_ft = train_model(dl, dataset_sizes, model_ft, criterion, optimizer_ft, exp_lr_scheduler,\n",
    "                       num_epochs=25)"
   ]
  },
  {
   "cell_type": "code",
   "execution_count": null,
   "metadata": {},
   "outputs": [],
   "source": [
    "PATH = \"../../../saved_models/inception_v3.pt\"\n",
    "torch.save(model_ft.state_dict(), PATH)"
   ]
  },
  {
   "cell_type": "code",
   "execution_count": null,
   "metadata": {},
   "outputs": [],
   "source": []
  }
 ],
 "metadata": {
  "kernelspec": {
   "display_name": "Python 3",
   "language": "python",
   "name": "python3"
  },
  "language_info": {
   "codemirror_mode": {
    "name": "ipython",
    "version": 3
   },
   "file_extension": ".py",
   "mimetype": "text/x-python",
   "name": "python",
   "nbconvert_exporter": "python",
   "pygments_lexer": "ipython3",
   "version": "3.8.3"
  }
 },
 "nbformat": 4,
 "nbformat_minor": 4
}
